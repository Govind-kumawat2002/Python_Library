{
 "cells": [
  {
   "cell_type": "markdown",
   "metadata": {},
   "source": [
    "# OS modul function"
   ]
  },
  {
   "cell_type": "code",
   "execution_count": null,
   "metadata": {},
   "outputs": [],
   "source": [
    "# In Python, the `os` module provides a way of interacting with the operating system. It offers functions for working with files and directories, managing processes, and accessing environment variables. Here are some common functions provided by the `os` module:\n",
    "\n",
    "# 1. `os.getcwd()`: Returns the current working directory as a string.\n",
    "# 2. `os.chdir(path)`: Changes the current working directory to the specified path.\n",
    "# 3. `os.listdir(path='.')`: Returns a list of the names of the files and directories in the specified directory.\n",
    "# 4. `os.mkdir(path)`: Creates a directory named path.\n",
    "# 5. `os.makedirs(path)`: Creates a directory named path, creating any intermediate directories if necessary.\n",
    "# 6. `os.remove(path)`: Removes (deletes) the file path.\n",
    "# 7. `os.rename(src, dst)`: Renames the file or directory src to dst.\n",
    "# 8. `os.path.exists(path)`: Returns True if path refers to an existing path.\n",
    "# 9. `os.path.isfile(path)`: Returns True if path is an existing regular file.\n",
    "# 10. `os.path.isdir(path)`: Returns True if path is an existing directory.\n",
    "# 11. `os.path.join(path1, path2, ...)`: Joins one or more path components intelligently. \n",
    "\n",
    "# These are just a few examples; the `os` module provides many more functions for interacting with the operating system."
   ]
  },
  {
   "cell_type": "code",
   "execution_count": 2,
   "metadata": {},
   "outputs": [],
   "source": [
    "import os "
   ]
  },
  {
   "cell_type": "code",
   "execution_count": 4,
   "metadata": {},
   "outputs": [
    {
     "data": {
      "text/plain": [
       "'e:\\\\Python_Library'"
      ]
     },
     "execution_count": 4,
     "metadata": {},
     "output_type": "execute_result"
    }
   ],
   "source": [
    "os.getcwd()"
   ]
  },
  {
   "cell_type": "code",
   "execution_count": 5,
   "metadata": {},
   "outputs": [
    {
     "ename": "NotADirectoryError",
     "evalue": "[WinError 267] The directory name is invalid: 'hello.ipynb'",
     "output_type": "error",
     "traceback": [
      "\u001b[1;31m---------------------------------------------------------------------------\u001b[0m",
      "\u001b[1;31mNotADirectoryError\u001b[0m                        Traceback (most recent call last)",
      "Cell \u001b[1;32mIn[5], line 1\u001b[0m\n\u001b[1;32m----> 1\u001b[0m \u001b[43mos\u001b[49m\u001b[38;5;241;43m.\u001b[39;49m\u001b[43mchdir\u001b[49m\u001b[43m(\u001b[49m\u001b[38;5;124;43m\"\u001b[39;49m\u001b[38;5;124;43mhello.ipynb\u001b[39;49m\u001b[38;5;124;43m\"\u001b[39;49m\u001b[43m)\u001b[49m\n",
      "\u001b[1;31mNotADirectoryError\u001b[0m: [WinError 267] The directory name is invalid: 'hello.ipynb'"
     ]
    }
   ],
   "source": [
    "# os.chdir(hello.ipynb)\n",
    "os"
   ]
  },
  {
   "cell_type": "code",
   "execution_count": null,
   "metadata": {},
   "outputs": [],
   "source": []
  }
 ],
 "metadata": {
  "kernelspec": {
   "display_name": "Python 3",
   "language": "python",
   "name": "python3"
  },
  "language_info": {
   "codemirror_mode": {
    "name": "ipython",
    "version": 3
   },
   "file_extension": ".py",
   "mimetype": "text/x-python",
   "name": "python",
   "nbconvert_exporter": "python",
   "pygments_lexer": "ipython3",
   "version": "3.11.5"
  }
 },
 "nbformat": 4,
 "nbformat_minor": 2
}

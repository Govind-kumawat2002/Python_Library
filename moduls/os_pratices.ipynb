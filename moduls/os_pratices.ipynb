{
 "cells": [
  {
   "cell_type": "code",
   "execution_count": 1,
   "metadata": {},
   "outputs": [],
   "source": [
    "import os"
   ]
  },
  {
   "cell_type": "code",
   "execution_count": 2,
   "metadata": {},
   "outputs": [
    {
     "data": {
      "text/plain": [
       "'e:\\\\Python_Library\\\\moduls'"
      ]
     },
     "execution_count": 2,
     "metadata": {},
     "output_type": "execute_result"
    }
   ],
   "source": [
    "os.getcwd()"
   ]
  },
  {
   "cell_type": "code",
   "execution_count": 3,
   "metadata": {},
   "outputs": [
    {
     "data": {
      "text/plain": [
       "['hello.ipynb',\n",
       " 'loop.ipynb',\n",
       " 'mateplote_lib.ipynb',\n",
       " 'mateplote_practics.ipynb',\n",
       " 'mymodul.py',\n",
       " 'os_modul.ipynb',\n",
       " 'os_pratices.ipynb',\n",
       " 'pandas01.ipynb',\n",
       " 'pandas_.ipynb',\n",
       " 'pandas_practics.ipynb',\n",
       " 'pandas_practics01.ipynb',\n",
       " 'python_function.ipynb',\n",
       " 'seaborn.ipynb',\n",
       " 'seaborn011.ipynb',\n",
       " 'seabornlib.ipynb',\n",
       " 'specchreconigntion.ipynb',\n",
       " 'Untitled.ipynb',\n",
       " 'vesion.ipynb']"
      ]
     },
     "execution_count": 3,
     "metadata": {},
     "output_type": "execute_result"
    }
   ],
   "source": [
    "os.listdir('e:\\\\Python_Library\\\\moduls')\n"
   ]
  },
  {
   "cell_type": "code",
   "execution_count": 4,
   "metadata": {},
   "outputs": [],
   "source": [
    "os.mkdir('e:\\\\Python_Library\\\\moduls\\\\hello baby')"
   ]
  },
  {
   "cell_type": "code",
   "execution_count": 3,
   "metadata": {},
   "outputs": [
    {
     "name": "stdout",
     "output_type": "stream",
     "text": [
      "ki najar lg gyi mere pyarr ko  jmane ki \n",
      " papa ne syadi kradi ab aadt daldi kmane ki \n"
     ]
    }
   ],
   "source": [
    "print(\"ki najar lg gyi mere pyarr ko  jmane ki\" ,'\\n',\n",
    "      \"papa ne syadi kradi ab aadt daldi kmane ki \")"
   ]
  },
  {
   "cell_type": "code",
   "execution_count": null,
   "metadata": {},
   "outputs": [],
   "source": []
  }
 ],
 "metadata": {
  "kernelspec": {
   "display_name": "Python 3",
   "language": "python",
   "name": "python3"
  },
  "language_info": {
   "codemirror_mode": {
    "name": "ipython",
    "version": 3
   },
   "file_extension": ".py",
   "mimetype": "text/x-python",
   "name": "python",
   "nbconvert_exporter": "python",
   "pygments_lexer": "ipython3",
   "version": "3.11.3"
  }
 },
 "nbformat": 4,
 "nbformat_minor": 2
}
